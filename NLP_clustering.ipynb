{
 "cells": [
  {
   "cell_type": "code",
   "execution_count": 2,
   "id": "d4258751-aa33-4de3-b2d5-2b7f110e7e4b",
   "metadata": {},
   "outputs": [],
   "source": [
    "import pandas as pd"
   ]
  },
  {
   "cell_type": "code",
   "execution_count": 3,
   "id": "7ea5c347-f511-421b-8e4b-5dbf0db77457",
   "metadata": {},
   "outputs": [],
   "source": [
    "df = pd.read_csv(\"C:/Users/Admin/OneDrive/Documents/Book Recommendation/cleaned_data.csv\")"
   ]
  },
  {
   "cell_type": "code",
   "execution_count": 4,
   "id": "0e0ba773-c439-4197-8e2c-04e2f470b166",
   "metadata": {},
   "outputs": [
    {
     "name": "stdout",
     "output_type": "stream",
     "text": [
      "Requirement already satisfied: nltk in c:\\users\\admin\\anaconda3\\envs\\guvi_ds\\lib\\site-packages (3.9.1)\n",
      "Requirement already satisfied: click in c:\\users\\admin\\anaconda3\\envs\\guvi_ds\\lib\\site-packages (from nltk) (8.1.7)\n",
      "Requirement already satisfied: joblib in c:\\users\\admin\\anaconda3\\envs\\guvi_ds\\lib\\site-packages (from nltk) (1.4.2)\n",
      "Requirement already satisfied: regex>=2021.8.3 in c:\\users\\admin\\anaconda3\\envs\\guvi_ds\\lib\\site-packages (from nltk) (2024.11.6)\n",
      "Requirement already satisfied: tqdm in c:\\users\\admin\\anaconda3\\envs\\guvi_ds\\lib\\site-packages (from nltk) (4.67.1)\n",
      "Requirement already satisfied: colorama in c:\\users\\admin\\anaconda3\\envs\\guvi_ds\\lib\\site-packages (from click->nltk) (0.4.6)\n",
      "Note: you may need to restart the kernel to use updated packages.\n"
     ]
    }
   ],
   "source": [
    "pip install nltk"
   ]
  },
  {
   "cell_type": "code",
   "execution_count": 1,
   "id": "f967aa4c-b005-4d99-b7bb-133f6632c6bb",
   "metadata": {},
   "outputs": [
    {
     "name": "stdout",
     "output_type": "stream",
     "text": [
      "showing info https://raw.githubusercontent.com/nltk/nltk_data/gh-pages/index.xml\n"
     ]
    },
    {
     "data": {
      "text/plain": [
       "True"
      ]
     },
     "execution_count": 1,
     "metadata": {},
     "output_type": "execute_result"
    }
   ],
   "source": [
    "import nltk\n",
    "nltk.download()"
   ]
  },
  {
   "cell_type": "code",
   "execution_count": 5,
   "id": "65cad766-aa88-4fbc-b026-f86529710577",
   "metadata": {},
   "outputs": [],
   "source": [
    "from sklearn.feature_extraction.text import TfidfVectorizer\n",
    "from nltk.corpus import stopwords\n",
    "from nltk.tokenize import word_tokenize\n",
    "from nltk.stem import WordNetLemmatizer"
   ]
  },
  {
   "cell_type": "code",
   "execution_count": 6,
   "id": "79804148-0bbd-4c0a-971f-24e9b2c15942",
   "metadata": {},
   "outputs": [],
   "source": [
    "# Text preprocessing (tokenization, stopword removal, lemmatization)\n",
    "def preprocess_text(text):\n",
    "    lemmatizer = WordNetLemmatizer()\n",
    "    stop_words = set(stopwords.words('english'))\n",
    "    tokens = word_tokenize(text)\n",
    "    tokens = [lemmatizer.lemmatize(word.lower()) for word in tokens if word.isalpha() and word not in stop_words]\n",
    "    return ' '.join(tokens)\n",
    "\n",
    "df['cleaned_description'] = df['Description'].apply(preprocess_text)"
   ]
  },
  {
   "cell_type": "code",
   "execution_count": 7,
   "id": "c9fe2694-725e-41c4-a219-aeaeb2a3c5b0",
   "metadata": {},
   "outputs": [],
   "source": [
    "# Vectorizing text using TF-IDF\n",
    "tfidf = TfidfVectorizer(max_features=1000)\n",
    "tfidf_matrix = tfidf.fit_transform(df['cleaned_description'])"
   ]
  },
  {
   "cell_type": "code",
   "execution_count": 8,
   "id": "05770301-be38-4e85-b7cf-1b5ee69dcfd2",
   "metadata": {},
   "outputs": [],
   "source": [
    "# K-Means clustering\n",
    "\n",
    "from sklearn.cluster import KMeans\n",
    "\n",
    "kmeans = KMeans(n_clusters=5, random_state=42)\n",
    "df['cluster'] = kmeans.fit_predict(tfidf_matrix)"
   ]
  },
  {
   "cell_type": "code",
   "execution_count": 10,
   "id": "65af0dd8-37e0-40f8-a663-9da5cb0cf156",
   "metadata": {},
   "outputs": [],
   "source": [
    "df.drop('Description', axis = 1, inplace = True)"
   ]
  },
  {
   "cell_type": "code",
   "execution_count": 11,
   "id": "d12eaa66-d62c-4eae-bd0a-76dbdbbae000",
   "metadata": {},
   "outputs": [
    {
     "data": {
      "text/html": [
       "<div>\n",
       "<style scoped>\n",
       "    .dataframe tbody tr th:only-of-type {\n",
       "        vertical-align: middle;\n",
       "    }\n",
       "\n",
       "    .dataframe tbody tr th {\n",
       "        vertical-align: top;\n",
       "    }\n",
       "\n",
       "    .dataframe thead th {\n",
       "        text-align: right;\n",
       "    }\n",
       "</style>\n",
       "<table border=\"1\" class=\"dataframe\">\n",
       "  <thead>\n",
       "    <tr style=\"text-align: right;\">\n",
       "      <th></th>\n",
       "      <th>Book Name</th>\n",
       "      <th>Author</th>\n",
       "      <th>Rating</th>\n",
       "      <th>Number of Reviews</th>\n",
       "      <th>Price</th>\n",
       "      <th>Rank</th>\n",
       "      <th>Genre</th>\n",
       "      <th>Listening Time (minutes)</th>\n",
       "      <th>cleaned_description</th>\n",
       "      <th>cluster</th>\n",
       "    </tr>\n",
       "  </thead>\n",
       "  <tbody>\n",
       "    <tr>\n",
       "      <th>0</th>\n",
       "      <td>Think Like a Monk: The Secret of How to Harnes...</td>\n",
       "      <td>Jay Shetty</td>\n",
       "      <td>4.9</td>\n",
       "      <td>371.0</td>\n",
       "      <td>10080.0</td>\n",
       "      <td>1</td>\n",
       "      <td>Society &amp; Culture (Books)</td>\n",
       "      <td>654.0</td>\n",
       "      <td>over past three year jay shetty become one wor...</td>\n",
       "      <td>2</td>\n",
       "    </tr>\n",
       "    <tr>\n",
       "      <th>1</th>\n",
       "      <td>Ikigai: The Japanese Secret to a Long and Happ...</td>\n",
       "      <td>Héctor García</td>\n",
       "      <td>4.6</td>\n",
       "      <td>3682.0</td>\n",
       "      <td>615.0</td>\n",
       "      <td>2</td>\n",
       "      <td>Personal Success</td>\n",
       "      <td>203.0</td>\n",
       "      <td>brought penguin</td>\n",
       "      <td>1</td>\n",
       "    </tr>\n",
       "    <tr>\n",
       "      <th>2</th>\n",
       "      <td>The Subtle Art of Not Giving a F*ck: A Counter...</td>\n",
       "      <td>Mark Manson</td>\n",
       "      <td>4.4</td>\n",
       "      <td>20306.0</td>\n",
       "      <td>10378.0</td>\n",
       "      <td>3</td>\n",
       "      <td>Personal Development &amp; Self-Help</td>\n",
       "      <td>317.0</td>\n",
       "      <td>in guide superstar blogger cut crap show u sto...</td>\n",
       "      <td>2</td>\n",
       "    </tr>\n",
       "    <tr>\n",
       "      <th>3</th>\n",
       "      <td>Atomic Habits: An Easy and Proven Way to Build...</td>\n",
       "      <td>James Clear</td>\n",
       "      <td>4.6</td>\n",
       "      <td>4678.0</td>\n",
       "      <td>888.0</td>\n",
       "      <td>5</td>\n",
       "      <td>Personal Success</td>\n",
       "      <td>335.0</td>\n",
       "      <td>brought penguin</td>\n",
       "      <td>1</td>\n",
       "    </tr>\n",
       "    <tr>\n",
       "      <th>4</th>\n",
       "      <td>Life's Amazing Secrets: How to Find Balance an...</td>\n",
       "      <td>Gaur Gopal Das</td>\n",
       "      <td>4.6</td>\n",
       "      <td>4308.0</td>\n",
       "      <td>1005.0</td>\n",
       "      <td>6</td>\n",
       "      <td>Spiritualism</td>\n",
       "      <td>385.0</td>\n",
       "      <td>stop going life start growing life</td>\n",
       "      <td>2</td>\n",
       "    </tr>\n",
       "  </tbody>\n",
       "</table>\n",
       "</div>"
      ],
      "text/plain": [
       "                                           Book Name          Author  Rating  \\\n",
       "0  Think Like a Monk: The Secret of How to Harnes...      Jay Shetty     4.9   \n",
       "1  Ikigai: The Japanese Secret to a Long and Happ...   Héctor García     4.6   \n",
       "2  The Subtle Art of Not Giving a F*ck: A Counter...     Mark Manson     4.4   \n",
       "3  Atomic Habits: An Easy and Proven Way to Build...     James Clear     4.6   \n",
       "4  Life's Amazing Secrets: How to Find Balance an...  Gaur Gopal Das     4.6   \n",
       "\n",
       "   Number of Reviews    Price  Rank                             Genre  \\\n",
       "0              371.0  10080.0     1         Society & Culture (Books)   \n",
       "1             3682.0    615.0     2                  Personal Success   \n",
       "2            20306.0  10378.0     3  Personal Development & Self-Help   \n",
       "3             4678.0    888.0     5                  Personal Success   \n",
       "4             4308.0   1005.0     6                      Spiritualism   \n",
       "\n",
       "   Listening Time (minutes)  \\\n",
       "0                     654.0   \n",
       "1                     203.0   \n",
       "2                     317.0   \n",
       "3                     335.0   \n",
       "4                     385.0   \n",
       "\n",
       "                                 cleaned_description  cluster  \n",
       "0  over past three year jay shetty become one wor...        2  \n",
       "1                                    brought penguin        1  \n",
       "2  in guide superstar blogger cut crap show u sto...        2  \n",
       "3                                    brought penguin        1  \n",
       "4                 stop going life start growing life        2  "
      ]
     },
     "execution_count": 11,
     "metadata": {},
     "output_type": "execute_result"
    }
   ],
   "source": [
    "df.head()"
   ]
  },
  {
   "cell_type": "code",
   "execution_count": 30,
   "id": "20219a7d-2633-401c-9121-6026065c91fa",
   "metadata": {},
   "outputs": [],
   "source": [
    "df.to_csv(\"C:/Users/Admin/OneDrive/Documents/Book Recommendation/clustered_data.csv\")"
   ]
  }
 ],
 "metadata": {
  "kernelspec": {
   "display_name": "Guvi_DS",
   "language": "python",
   "name": "python3"
  },
  "language_info": {
   "codemirror_mode": {
    "name": "ipython",
    "version": 3
   },
   "file_extension": ".py",
   "mimetype": "text/x-python",
   "name": "python",
   "nbconvert_exporter": "python",
   "pygments_lexer": "ipython3",
   "version": "3.11.10"
  }
 },
 "nbformat": 4,
 "nbformat_minor": 5
}
